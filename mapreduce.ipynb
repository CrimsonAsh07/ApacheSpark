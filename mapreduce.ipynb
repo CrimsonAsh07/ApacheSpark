{
 "cells": [
  {
   "cell_type": "code",
   "execution_count": 20,
   "metadata": {},
   "outputs": [],
   "source": [
    "import findspark\n",
    "findspark.init()\n",
    "from pyspark.sql import SparkSession\n",
    "from pyspark.sql.types import StructField, StringType, IntegerType, StructType"
   ]
  },
  {
   "cell_type": "code",
   "execution_count": 3,
   "metadata": {},
   "outputs": [],
   "source": [
    "spark = SparkSession.builder.appName('WordCount').getOrCreate()\n",
    "sc = spark.sparkContext"
   ]
  },
  {
   "cell_type": "code",
   "execution_count": 4,
   "metadata": {},
   "outputs": [
    {
     "data": {
      "text/plain": [
       "['Lorem ipsum dolor sit amet, consectetur adipiscing elit, sed do eiusmod tempor incididunt ut labore et dolore magna aliqua. Ut enim ad minim veniam, quis nostrud exercitation ullamco laboris nisi ut aliquip ex ea commodo consequat. Duis aute irure dolor in reprehenderit in voluptate velit esse cillum dolore eu fugiat nulla pariatur. Excepteur sint occaecat cupidatat non proident, sunt in culpa qui officia deserunt mollit anim id est laborum.']"
      ]
     },
     "execution_count": 4,
     "metadata": {},
     "output_type": "execute_result"
    }
   ],
   "source": [
    "input_text = sc.textFile(\"sample.txt\")\n",
    "input_text.collect()"
   ]
  },
  {
   "cell_type": "code",
   "execution_count": 24,
   "metadata": {},
   "outputs": [
    {
     "name": "stdout",
     "output_type": "stream",
     "text": [
      "+------+-----+\n",
      "|  Word|Count|\n",
      "+------+-----+\n",
      "| Three|    1|\n",
      "| Rings|    1|\n",
      "|   sky|    1|\n",
      "| Dwarf|    1|\n",
      "| lords|    1|\n",
      "|    in|    2|\n",
      "| halls|    1|\n",
      "|    of|    3|\n",
      "| stone|    1|\n",
      "|  Nine|    1|\n",
      "|Mortal|    1|\n",
      "|doomed|    1|\n",
      "|   die|    1|\n",
      "|   One|    4|\n",
      "|  Lord|    1|\n",
      "|   his|    1|\n",
      "|  dark|    1|\n",
      "|throne|    1|\n",
      "| where|    2|\n",
      "|   lie|    2|\n",
      "+------+-----+\n",
      "only showing top 20 rows\n",
      "\n"
     ]
    }
   ],
   "source": [
    "text_flat = input_text.flatMap(lambda x: x.split(' ')).map(lambda x: (x,1)).reduceByKey(lambda x,y : x+y)\n",
    "\n",
    "# text_flat is an RDD. We need to convert this to a dataframe before carrying out the sorting operations\n",
    "\n",
    "schema = StructType([StructField(\"Word\",StringType(),True),StructField(\"Count\",IntegerType(),True)])\n",
    "dfText = spark.createDataFrame(text_flat,schema)\n",
    "dfText.show()"
   ]
  },
  {
   "cell_type": "code",
   "execution_count": 36,
   "metadata": {},
   "outputs": [
    {
     "name": "stdout",
     "output_type": "stream",
     "text": [
      "+-----------+-----+\n",
      "|       Word|Count|\n",
      "+-----------+-----+\n",
      "|       Dark|    1|\n",
      "|      Dwarf|    1|\n",
      "|Elven-kings|    1|\n",
      "|         In|    2|\n",
      "|       Land|    2|\n",
      "|       Lord|    1|\n",
      "|        Men|    1|\n",
      "|     Mordor|    2|\n",
      "|     Mortal|    1|\n",
      "|       Nine|    1|\n",
      "|        One|    4|\n",
      "|       Ring|    3|\n",
      "|      Rings|    1|\n",
      "|      Seven|    1|\n",
      "|    Shadows|    2|\n",
      "|      Three|    1|\n",
      "|       all,|    2|\n",
      "|        and|    1|\n",
      "|       bind|    1|\n",
      "|      bring|    1|\n",
      "+-----------+-----+\n",
      "only showing top 20 rows\n",
      "\n"
     ]
    }
   ],
   "source": [
    "dfText.sort(\"Word\").show(20)"
   ]
  },
  {
   "cell_type": "code",
   "execution_count": 38,
   "metadata": {},
   "outputs": [
    {
     "name": "stdout",
     "output_type": "stream",
     "text": [
      "+-----------+-----+\n",
      "|       Word|Count|\n",
      "+-----------+-----+\n",
      "|        the|    9|\n",
      "|         to|    4|\n",
      "|       them|    4|\n",
      "|        for|    4|\n",
      "|        One|    4|\n",
      "|       Ring|    3|\n",
      "|         of|    3|\n",
      "|         in|    2|\n",
      "|    Shadows|    2|\n",
      "|       Land|    2|\n",
      "|     Mordor|    2|\n",
      "|        lie|    2|\n",
      "|       all,|    2|\n",
      "|      where|    2|\n",
      "|         In|    2|\n",
      "|Elven-kings|    1|\n",
      "|      under|    1|\n",
      "|      Seven|    1|\n",
      "|         on|    1|\n",
      "|      Three|    1|\n",
      "|      their|    1|\n",
      "|        Men|    1|\n",
      "|       find|    1|\n",
      "|        and|    1|\n",
      "|      Rings|    1|\n",
      "|      halls|    1|\n",
      "|      Dwarf|    1|\n",
      "|       Nine|    1|\n",
      "|       Lord|    1|\n",
      "|       Dark|    1|\n",
      "|     Mortal|    1|\n",
      "|        die|    1|\n",
      "|   darkness|    1|\n",
      "|     throne|    1|\n",
      "|      bring|    1|\n",
      "|        sky|    1|\n",
      "|      stone|    1|\n",
      "|     doomed|    1|\n",
      "|       dark|    1|\n",
      "|      lords|    1|\n",
      "|       bind|    1|\n",
      "|        his|    1|\n",
      "|       rule|    1|\n",
      "+-----------+-----+\n",
      "\n"
     ]
    }
   ],
   "source": [
    "dfText.sort(dfText.Count.desc()).show(100)"
   ]
  }
 ],
 "metadata": {
  "kernelspec": {
   "display_name": "Python 3.9.13 ('base')",
   "language": "python",
   "name": "python3"
  },
  "language_info": {
   "codemirror_mode": {
    "name": "ipython",
    "version": 3
   },
   "file_extension": ".py",
   "mimetype": "text/x-python",
   "name": "python",
   "nbconvert_exporter": "python",
   "pygments_lexer": "ipython3",
   "version": "3.9.13"
  },
  "orig_nbformat": 4,
  "vscode": {
   "interpreter": {
    "hash": "e42ca19445ab0fe74bde66dd3915d40905a7e357d5d24ce92a60d051aac734a0"
   }
  }
 },
 "nbformat": 4,
 "nbformat_minor": 2
}
