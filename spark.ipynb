{
 "cells": [
  {
   "cell_type": "markdown",
   "metadata": {},
   "source": [
    "## Apache Spark"
   ]
  },
  {
   "cell_type": "code",
   "execution_count": 38,
   "metadata": {},
   "outputs": [],
   "source": [
    "from pyspark.sql import SparkSession, Row\n",
    "from pyspark.sql.types import StructField, StringType, IntegerType, StructType"
   ]
  },
  {
   "cell_type": "code",
   "execution_count": 2,
   "metadata": {},
   "outputs": [],
   "source": [
    "import findspark\n",
    "findspark.init()"
   ]
  },
  {
   "cell_type": "code",
   "execution_count": 3,
   "metadata": {},
   "outputs": [],
   "source": [
    "spark = SparkSession.builder.appName(\"Basics\").getOrCreate()"
   ]
  },
  {
   "cell_type": "code",
   "execution_count": 4,
   "metadata": {},
   "outputs": [
    {
     "data": {
      "text/html": [
       "\n",
       "            <div>\n",
       "                <p><b>SparkSession - in-memory</b></p>\n",
       "                \n",
       "        <div>\n",
       "            <p><b>SparkContext</b></p>\n",
       "\n",
       "            <p><a href=\"http://10.2.10.12:4040\">Spark UI</a></p>\n",
       "\n",
       "            <dl>\n",
       "              <dt>Version</dt>\n",
       "                <dd><code>v3.0.3</code></dd>\n",
       "              <dt>Master</dt>\n",
       "                <dd><code>local[*]</code></dd>\n",
       "              <dt>AppName</dt>\n",
       "                <dd><code>Basics</code></dd>\n",
       "            </dl>\n",
       "        </div>\n",
       "        \n",
       "            </div>\n",
       "        "
      ],
      "text/plain": [
       "<pyspark.sql.session.SparkSession at 0x2615060e250>"
      ]
     },
     "execution_count": 4,
     "metadata": {},
     "output_type": "execute_result"
    }
   ],
   "source": [
    "spark"
   ]
  },
  {
   "cell_type": "markdown",
   "metadata": {},
   "source": [
    "#### Old Implementation"
   ]
  },
  {
   "cell_type": "code",
   "execution_count": 12,
   "metadata": {},
   "outputs": [
    {
     "name": "stdout",
     "output_type": "stream",
     "text": [
      "+----+----------+------+--------------+---------------+\n",
      "| _c0|       _c1|   _c2|           _c3|            _c4|\n",
      "+----+----------+------+--------------+---------------+\n",
      "|Name|     \"Sex\"| \"Age\"| \"Height (in)\"| \"Weight (lbs)\"|\n",
      "|Alex|       \"M\"|    41|            74|            170|\n",
      "|Bert|       \"M\"|    42|            68|            166|\n",
      "|Carl|       \"M\"|    32|            70|            155|\n",
      "|Dave|       \"M\"|    39|            72|            167|\n",
      "|Elly|       \"F\"|    30|            66|            124|\n",
      "|Fran|       \"F\"|    33|            66|            115|\n",
      "|Gwen|       \"F\"|    26|            64|            121|\n",
      "|Hank|       \"M\"|    30|            71|            158|\n",
      "|Ivan|       \"M\"|    53|            72|            175|\n",
      "|Jake|       \"M\"|    32|            69|            143|\n",
      "|Kate|       \"F\"|    47|            69|            139|\n",
      "|Luke|       \"M\"|    34|            72|            163|\n",
      "|Myra|       \"F\"|    23|            62|             98|\n",
      "|Neil|       \"M\"|    36|            75|            160|\n",
      "|Omar|       \"M\"|    38|            70|            145|\n",
      "|Page|       \"F\"|    31|            67|            135|\n",
      "|Quin|       \"M\"|    29|            71|            176|\n",
      "|Ruth|       \"F\"|    28|            65|            131|\n",
      "+----+----------+------+--------------+---------------+\n",
      "\n"
     ]
    }
   ],
   "source": [
    "df = spark.read.csv(\"biostats.csv\")"
   ]
  },
  {
   "cell_type": "markdown",
   "metadata": {},
   "source": [
    "#### New Implementation"
   ]
  },
  {
   "cell_type": "code",
   "execution_count": 21,
   "metadata": {},
   "outputs": [
    {
     "name": "stdout",
     "output_type": "stream",
     "text": [
      "+----+----------+-----+---------+---------+\n",
      "|Name|       Sex|  Age|   Height|   Weight|\n",
      "+----+----------+-----+---------+---------+\n",
      "|Alex|       \"M\"|   41|       74|      170|\n",
      "|Bert|       \"M\"|   42|       68|      166|\n",
      "|Carl|       \"M\"|   32|       70|      155|\n",
      "|Dave|       \"M\"|   39|       72|      167|\n",
      "|Elly|       \"F\"|   30|       66|      124|\n",
      "|Fran|       \"F\"|   33|       66|      115|\n",
      "|Gwen|       \"F\"|   26|       64|      121|\n",
      "|Hank|       \"M\"|   30|       71|      158|\n",
      "|Ivan|       \"M\"|   53|       72|      175|\n",
      "|Jake|       \"M\"|   32|       69|      143|\n",
      "|Kate|       \"F\"|   47|       69|      139|\n",
      "|Luke|       \"M\"|   34|       72|      163|\n",
      "|Myra|       \"F\"|   23|       62|       98|\n",
      "|Neil|       \"M\"|   36|       75|      160|\n",
      "|Omar|       \"M\"|   38|       70|      145|\n",
      "|Page|       \"F\"|   31|       67|      135|\n",
      "|Quin|       \"M\"|   29|       71|      176|\n",
      "|Ruth|       \"F\"|   28|       65|      131|\n",
      "+----+----------+-----+---------+---------+\n",
      "\n"
     ]
    }
   ],
   "source": [
    "data_schema = [StructField(\"Name\", StringType(), True), StructField(\"Sex\", StringType(), True), StructField(\"Age\", StringType(), True), StructField(\"Height\", StringType(), True), StructField(\"Weight\", StringType(), True)]\n",
    "final_struct = StructType(fields=data_schema)\n",
    "df=spark.read.csv(\"biostats.csv\", schema=final_struct)\n",
    "df.show()"
   ]
  },
  {
   "cell_type": "code",
   "execution_count": 23,
   "metadata": {},
   "outputs": [
    {
     "name": "stdout",
     "output_type": "stream",
     "text": [
      "+---------+\n",
      "|   Height|\n",
      "+---------+\n",
      "|       74|\n",
      "|       68|\n",
      "|       70|\n",
      "|       72|\n",
      "|       66|\n",
      "|       66|\n",
      "|       64|\n",
      "|       71|\n",
      "|       72|\n",
      "|       69|\n",
      "|       69|\n",
      "|       72|\n",
      "|       62|\n",
      "|       75|\n",
      "|       70|\n",
      "|       67|\n",
      "|       71|\n",
      "|       65|\n",
      "+---------+\n",
      "\n"
     ]
    }
   ],
   "source": [
    "df.select(\"Height\").show()"
   ]
  },
  {
   "cell_type": "markdown",
   "metadata": {},
   "source": [
    "### Using SQL"
   ]
  },
  {
   "cell_type": "code",
   "execution_count": 25,
   "metadata": {},
   "outputs": [
    {
     "name": "stdout",
     "output_type": "stream",
     "text": [
      "+----+----------+-----+---------+---------+\n",
      "|Name|       Sex|  Age|   Height|   Weight|\n",
      "+----+----------+-----+---------+---------+\n",
      "|Alex|       \"M\"|   41|       74|      170|\n",
      "|Bert|       \"M\"|   42|       68|      166|\n",
      "|Carl|       \"M\"|   32|       70|      155|\n",
      "|Dave|       \"M\"|   39|       72|      167|\n",
      "|Fran|       \"F\"|   33|       66|      115|\n",
      "|Ivan|       \"M\"|   53|       72|      175|\n",
      "|Jake|       \"M\"|   32|       69|      143|\n",
      "|Kate|       \"F\"|   47|       69|      139|\n",
      "|Luke|       \"M\"|   34|       72|      163|\n",
      "|Neil|       \"M\"|   36|       75|      160|\n",
      "|Omar|       \"M\"|   38|       70|      145|\n",
      "|Page|       \"F\"|   31|       67|      135|\n",
      "+----+----------+-----+---------+---------+\n",
      "\n"
     ]
    }
   ],
   "source": [
    "# Registering the dataframe we've created as a SQL temporary view\n",
    "df.createOrReplaceTempView(\"tempview\")\n",
    "sql_results = spark.sql(\"SELECT * FROM tempview\")\n",
    "sql_results.show()"
   ]
  },
  {
   "cell_type": "markdown",
   "metadata": {},
   "source": [
    "### RDD Operations [Resilient Distributed Dataset]"
   ]
  },
  {
   "cell_type": "code",
   "execution_count": 47,
   "metadata": {},
   "outputs": [
    {
     "name": "stdout",
     "output_type": "stream",
     "text": [
      "+----+---+---+------+------+\n",
      "|name|sex|age|height|weight|\n",
      "+----+---+---+------+------+\n",
      "|Alex|  M| 41|    74|   170|\n",
      "|Bert|  M| 42|    68|   166|\n",
      "|Carl|  M| 32|    70|   155|\n",
      "|Dave|  M| 39|    72|   167|\n",
      "|Elly|  F| 30|    66|   124|\n",
      "|Fran|  F| 33|    66|   115|\n",
      "|Gwen|  F| 26|    64|   121|\n",
      "|Hank|  M| 30|    71|   158|\n",
      "|Ivan|  M| 53|    72|   175|\n",
      "|Jake|  M| 32|    69|   143|\n",
      "|Kate|  F| 47|    69|   139|\n",
      "|Luke|  M| 34|    72|   163|\n",
      "|Myra|  F| 23|    62|    98|\n",
      "|Neil|  M| 36|    75|   160|\n",
      "|Omar|  M| 38|    70|   145|\n",
      "|Page|  F| 31|    67|   135|\n",
      "|Quin|  M| 29|    71|   176|\n",
      "|Ruth|  F| 28|    65|   131|\n",
      "+----+---+---+------+------+\n",
      "\n"
     ]
    }
   ],
   "source": [
    "sc = spark.sparkContext\n",
    "lines = sc.textFile(\"biostatsmodif.txt\")\n",
    "parts = lines.map(lambda l: l.split(\",\"))\n",
    "people = parts.map(lambda p: Row(name=p[0], sex=p[1], age=int(p[2]), height=int(p[3]), weight=int(p[4])))\n",
    "\n",
    "schemaPeople = spark.createDataFrame(people)\n",
    "schemaPeople.show()"
   ]
  },
  {
   "cell_type": "code",
   "execution_count": null,
   "metadata": {},
   "outputs": [],
   "source": []
  }
 ],
 "metadata": {
  "kernelspec": {
   "display_name": "Python 3.9.13 ('base')",
   "language": "python",
   "name": "python3"
  },
  "language_info": {
   "codemirror_mode": {
    "name": "ipython",
    "version": 3
   },
   "file_extension": ".py",
   "mimetype": "text/x-python",
   "name": "python",
   "nbconvert_exporter": "python",
   "pygments_lexer": "ipython3",
   "version": "3.9.13"
  },
  "orig_nbformat": 4,
  "vscode": {
   "interpreter": {
    "hash": "e42ca19445ab0fe74bde66dd3915d40905a7e357d5d24ce92a60d051aac734a0"
   }
  }
 },
 "nbformat": 4,
 "nbformat_minor": 2
}
